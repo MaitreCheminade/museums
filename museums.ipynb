{
 "cells": [
  {
   "cell_type": "code",
   "execution_count": null,
   "id": "0cf7b55d",
   "metadata": {},
   "outputs": [],
   "source": [
    "# importer la librairie panda et numpy\n",
    "import numpy as np\n",
    "import pandas as pd \n",
    "import matplotlib.pyplot as plt\n",
    "pd.options.mode.chained_assignment = None\n",
    "# importer le csv \n",
    "data_csv = pd.read_csv(\"liste-des-musees-de-france-2021.csv\", sep = \";\", header = 0)\n",
    "data_csv.head()\n",
    "# compter le nombre de musées \n",
    "# équivalent au nombre de lignes  \n",
    "museum_number = len(data_csv)\n",
    "# dans quelle ville y a-t-il le plus de musées ? \n",
    "# on sélectionne toutes les lignes de la colonne des villes\n",
    "# ici, on obtient une liste de fréquence d'apparition de chaque ville, en commençant par la plus fréquente, Paris (175) \n",
    "# cela équivaut au nombre de musées par ville, qui permettra de faire les calculs suivants\n",
    "city_num = data_csv.value_counts(\"city\")\n",
    "# quel est le nombre moyen de musée par ville ?\n",
    "city_mean = np.mean(city_num)\n",
    "# Quel est le nombre médian de musées par ville ?\n",
    "city_med = np.median(city_num)\n",
    "# Comment sont répartis les musées par type (en pourcentage) ? \n",
    "# il y a une colonne \"tags\" dans laquelle, parfois, on rencontre un \"type:\"\n",
    "# on va donc dans un premier temps créer une liste qui regroupe tous les éléments pour lesquels un type est annoncé\n",
    "# on a donc ici un parti-pris restrictif : on aurait pu choisir d'inclure dans les types \"art:artcontemporain\" même si \"type\" n'est pas spécifié \n",
    "# mais on va partir du principe que la base de données est complète et qu'on n'a pas à la réinterpréter, même si elle est mal faite\n",
    "types = data_csv[data_csv[\"tags\"].astype(str).str.contains(\"type\") == True]\n",
    "# idem, on ne cherche pas à savoir l'intention du créateur de la base de données\n",
    "# il y a plein d'erreurs avec des types qui sont clairement des artefacts, mais on laisse \n",
    "# ici on crée la liste des différentstypes classés par fréquence \n",
    "by_types = types.value_counts(\"tags\")\n",
    "# on va transformer ça en une répartition en pourcentages \n",
    "# on détermine combien chaque ligne (type) représente par rapport au total de musées qui ont un type\n",
    "percent = (by_types.values / np.sum(by_types.values)) * 100\n",
    "# on verra pour le piechart \n",
    "fig, ax = plt.subplots()\n",
    "ax.pie(percent, labels=types[\"tags\"], autopct='%1.1f%%')\n",
    "# Combien y-a-t-il de musées dont le nom commence par \"Château\" ?\n",
    "castles = data_csv[data_csv[\"name\"].astype(str).str.contains(\"^Château\") == True]\n",
    "# Pour combien de musées dispose-t-on de l'adresse du site web ? \n",
    "# c'est équivalent à la length de la colonne en enlevant les NA \n",
    "website_number = len(data_csv[\"website\"].dropna())\n",
    "# quel département français a le plus de musées sur son territoire ? \n",
    "# d'abord on fait un compte par département, c'est à dire un values.count \n",
    "# il va falloir entrer dans le value.counts les deux premiers chiffres du code postal \n",
    "department[\"department_id\"] = data_csv[\"postal_code\"].astype(str).str[:2]\n",
    "depart_number = department.value_counts(\"department_id\")\n",
    "# Quel département français possède le plus de musées sur son territoire ?\n",
    "print(depart_number.astype(int).idxmax())\n",
    "# quel département français possède le moins de musées sur son territoire ? \n",
    "print(depart_number.astype(int).idxmin())\n",
    "# Combien de musées ont \"Napoléon\" dans leur nom ? \n",
    "napoleon = data_csv[data_csv[\"name\"].astype(str).str.contains(\"Napoléon\") == True]\n",
    "print(len(napoleon))\n",
    "\n",
    "\n",
    "\n"
   ]
  },
  {
   "attachments": {},
   "cell_type": "markdown",
   "id": "e717fb87",
   "metadata": {},
   "source": [
    "# Nouvelles sources à ajouter pour améliorer la base de données : \n",
    "1. https://www.data.gouv.fr/fr/datasets/collections-des-musees-de-france-base-joconde/ \n",
    "La base Joconde peut être intégrée sous forme d'un nouveau dataframe lié, qui permettra de connaître les collections des musées \n",
    "2. https://www.culture.gouv.fr/Thematiques/Etudes-et-statistiques/Statistiques-culturelles/Donnees-statistiques-par-domaine_Cultural-statistics-databases/Musees\n",
    "Cette base du ministère de la culture complète avec les expositions temporaires, la fréquentation et la nature des collections "
   ]
  },
  {
   "cell_type": "code",
   "execution_count": null,
   "id": "49f7f0e8",
   "metadata": {},
   "outputs": [],
   "source": []
  }
 ],
 "metadata": {
  "kernelspec": {
   "display_name": "Python 3 (ipykernel)",
   "language": "python",
   "name": "python3"
  },
  "language_info": {
   "codemirror_mode": {
    "name": "ipython",
    "version": 3
   },
   "file_extension": ".py",
   "mimetype": "text/x-python",
   "name": "python",
   "nbconvert_exporter": "python",
   "pygments_lexer": "ipython3",
   "version": "3.10.9"
  }
 },
 "nbformat": 4,
 "nbformat_minor": 5
}
