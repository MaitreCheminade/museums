{
 "cells": [
  {
   "cell_type": "code",
   "execution_count": 97,
   "id": "0cf7b55d",
   "metadata": {},
   "outputs": [
    {
     "ename": "ValueError",
     "evalue": "'label' must be of length 'x'",
     "output_type": "error",
     "traceback": [
      "\u001b[1;31m---------------------------------------------------------------------------\u001b[0m",
      "\u001b[1;31mValueError\u001b[0m                                Traceback (most recent call last)",
      "Cell \u001b[1;32mIn[97], line 36\u001b[0m\n\u001b[0;32m     34\u001b[0m \u001b[39m# on verra pour le piechart \u001b[39;00m\n\u001b[0;32m     35\u001b[0m fig, ax \u001b[39m=\u001b[39m plt\u001b[39m.\u001b[39msubplots()\n\u001b[1;32m---> 36\u001b[0m ax\u001b[39m.\u001b[39;49mpie(percent, labels\u001b[39m=\u001b[39;49mtypes[\u001b[39m\"\u001b[39;49m\u001b[39mtags\u001b[39;49m\u001b[39m\"\u001b[39;49m], autopct\u001b[39m=\u001b[39;49m\u001b[39m'\u001b[39;49m\u001b[39m%1.1f\u001b[39;49;00m\u001b[39m%%\u001b[39;49;00m\u001b[39m'\u001b[39;49m)\n\u001b[0;32m     38\u001b[0m \u001b[39m# Combien y-a-t-il de musées dont le nom commence par \"Château\" ?\u001b[39;00m\n\u001b[0;32m     39\u001b[0m castles \u001b[39m=\u001b[39m data_csv[data_csv[\u001b[39m\"\u001b[39m\u001b[39mname\u001b[39m\u001b[39m\"\u001b[39m]\u001b[39m.\u001b[39mastype(\u001b[39mstr\u001b[39m)\u001b[39m.\u001b[39mstr\u001b[39m.\u001b[39mcontains(\u001b[39m\"\u001b[39m\u001b[39m^Château\u001b[39m\u001b[39m\"\u001b[39m) \u001b[39m==\u001b[39m \u001b[39mTrue\u001b[39;00m]\n",
      "File \u001b[1;32mc:\\Users\\pauln\\anaconda3\\lib\\site-packages\\matplotlib\\__init__.py:1442\u001b[0m, in \u001b[0;36m_preprocess_data.<locals>.inner\u001b[1;34m(ax, data, *args, **kwargs)\u001b[0m\n\u001b[0;32m   1439\u001b[0m \u001b[39m@functools\u001b[39m\u001b[39m.\u001b[39mwraps(func)\n\u001b[0;32m   1440\u001b[0m \u001b[39mdef\u001b[39;00m \u001b[39minner\u001b[39m(ax, \u001b[39m*\u001b[39margs, data\u001b[39m=\u001b[39m\u001b[39mNone\u001b[39;00m, \u001b[39m*\u001b[39m\u001b[39m*\u001b[39mkwargs):\n\u001b[0;32m   1441\u001b[0m     \u001b[39mif\u001b[39;00m data \u001b[39mis\u001b[39;00m \u001b[39mNone\u001b[39;00m:\n\u001b[1;32m-> 1442\u001b[0m         \u001b[39mreturn\u001b[39;00m func(ax, \u001b[39m*\u001b[39m\u001b[39mmap\u001b[39m(sanitize_sequence, args), \u001b[39m*\u001b[39m\u001b[39m*\u001b[39mkwargs)\n\u001b[0;32m   1444\u001b[0m     bound \u001b[39m=\u001b[39m new_sig\u001b[39m.\u001b[39mbind(ax, \u001b[39m*\u001b[39margs, \u001b[39m*\u001b[39m\u001b[39m*\u001b[39mkwargs)\n\u001b[0;32m   1445\u001b[0m     auto_label \u001b[39m=\u001b[39m (bound\u001b[39m.\u001b[39marguments\u001b[39m.\u001b[39mget(label_namer)\n\u001b[0;32m   1446\u001b[0m                   \u001b[39mor\u001b[39;00m bound\u001b[39m.\u001b[39mkwargs\u001b[39m.\u001b[39mget(label_namer))\n",
      "File \u001b[1;32mc:\\Users\\pauln\\anaconda3\\lib\\site-packages\\matplotlib\\axes\\_axes.py:3209\u001b[0m, in \u001b[0;36mAxes.pie\u001b[1;34m(self, x, explode, labels, colors, autopct, pctdistance, shadow, labeldistance, startangle, radius, counterclock, wedgeprops, textprops, center, frame, rotatelabels, normalize, hatch)\u001b[0m\n\u001b[0;32m   3207\u001b[0m     explode \u001b[39m=\u001b[39m [\u001b[39m0\u001b[39m] \u001b[39m*\u001b[39m \u001b[39mlen\u001b[39m(x)\n\u001b[0;32m   3208\u001b[0m \u001b[39mif\u001b[39;00m \u001b[39mlen\u001b[39m(x) \u001b[39m!=\u001b[39m \u001b[39mlen\u001b[39m(labels):\n\u001b[1;32m-> 3209\u001b[0m     \u001b[39mraise\u001b[39;00m \u001b[39mValueError\u001b[39;00m(\u001b[39m\"\u001b[39m\u001b[39m'\u001b[39m\u001b[39mlabel\u001b[39m\u001b[39m'\u001b[39m\u001b[39m must be of length \u001b[39m\u001b[39m'\u001b[39m\u001b[39mx\u001b[39m\u001b[39m'\u001b[39m\u001b[39m\"\u001b[39m)\n\u001b[0;32m   3210\u001b[0m \u001b[39mif\u001b[39;00m \u001b[39mlen\u001b[39m(x) \u001b[39m!=\u001b[39m \u001b[39mlen\u001b[39m(explode):\n\u001b[0;32m   3211\u001b[0m     \u001b[39mraise\u001b[39;00m \u001b[39mValueError\u001b[39;00m(\u001b[39m\"\u001b[39m\u001b[39m'\u001b[39m\u001b[39mexplode\u001b[39m\u001b[39m'\u001b[39m\u001b[39m must be of length \u001b[39m\u001b[39m'\u001b[39m\u001b[39mx\u001b[39m\u001b[39m'\u001b[39m\u001b[39m\"\u001b[39m)\n",
      "\u001b[1;31mValueError\u001b[0m: 'label' must be of length 'x'"
     ]
    },
    {
     "data": {
      "image/png": "[encoded data removed]",
      "text/plain": [
       "<Figure size 640x480 with 1 Axes>"
      ]
     },
     "metadata": {},
     "output_type": "display_data"
    }
   ],
   "source": [
    "# importer la librairie panda et numpy\n",
    "import numpy as np\n",
    "import pandas as pd \n",
    "import matplotlib.pyplot as plt\n",
    "pd.options.mode.chained_assignment = None\n",
    "# importer le csv \n",
    "data_csv = pd.read_csv(\"liste-des-musees-de-france-2021.csv\", sep = \";\", header = 0)\n",
    "data_csv.head()\n",
    "# compter le nombre de musées \n",
    "# équivalent au nombre de lignes  \n",
    "museum_number = len(data_csv)\n",
    "# dans quelle ville y a-t-il le plus de musées ? \n",
    "# on sélectionne toutes les lignes de la colonne des villes\n",
    "# ici, on obtient une liste de fréquence d'apparition de chaque ville, en commençant par la plus fréquente, Paris (175) \n",
    "# cela équivaut au nombre de musées par ville, qui permettra de faire les calculs suivants\n",
    "city_num = data_csv.value_counts(\"city\")\n",
    "# quel est le nombre moyen de musée par ville ?\n",
    "city_mean = np.mean(city_num)\n",
    "# Quel est le nombre médian de musées par ville ?\n",
    "city_med = np.median(city_num)\n",
    "# Comment sont répartis les musées par type (en pourcentage) ? \n",
    "# il y a une colonne \"tags\" dans laquelle, parfois, on rencontre un \"type:\"\n",
    "# on va donc dans un premier temps créer une liste qui regroupe tous les éléments pour lesquels un type est annoncé\n",
    "# on a donc ici un parti-pris restrictif : on aurait pu choisir d'inclure dans les types \"art:artcontemporain\" même si \"type\" n'est pas spécifié \n",
    "# mais on va partir du principe que la base de données est complète et qu'on n'a pas à la réinterpréter, même si elle est mal faite\n",
    "types = data_csv[data_csv[\"tags\"].astype(str).str.contains(\"type\") == True]\n",
    "# idem, on ne cherche pas à savoir l'intention du créateur de la base de données\n",
    "# il y a plein d'erreurs avec des types qui sont clairement des artefacts, mais on laisse \n",
    "# ici on crée la liste des différentstypes classés par fréquence \n",
    "by_types = types.value_counts(\"tags\")\n",
    "# on va transformer ça en une répartition en pourcentages \n",
    "# on détermine combien chaque ligne (type) représente par rapport au total de musées qui ont un type\n",
    "percent = (by_types.values / np.sum(by_types.values)) * 100\n",
    "# on verra pour le piechart \n",
    "fig, ax = plt.subplots()\n",
    "ax.pie(percent, labels=types[\"tags\"], autopct='%1.1f%%')\n",
    "# Combien y-a-t-il de musées dont le nom commence par \"Château\" ?\n",
    "castles = data_csv[data_csv[\"name\"].astype(str).str.contains(\"^Château\") == True]\n",
    "# Pour combien de musées dispose-t-on de l'adresse du site web ? \n",
    "# c'est équivalent à la length de la colonne en enlevant les NA \n",
    "website_number = len(data_csv[\"website\"].dropna())\n",
    "# quel département français a le plus de musées sur son territoire ? \n",
    "# d'abord on fait un compte par département, c'est à dire un values.count \n",
    "# il va falloir entrer dans le value.counts les deux premiers chiffres du code postal \n",
    "department[\"department_id\"] = data_csv[\"postal_code\"].astype(str).str[:2]\n",
    "depart_number = department.value_counts(\"department_id\")\n",
    "# Quel département français possède le plus de musées sur son territoire ?\n",
    "print(depart_number.astype(int).idxmax())\n",
    "# quel département français possède le moins de musées sur son territoire ? \n",
    "print(depart_number.astype(int).idxmin())\n",
    "# Combien de musées ont \"Napoléon\" dans leur nom ? \n",
    "napoleon = data_csv[data_csv[\"name\"].astype(str).str.contains(\"Napoléon\") == True]\n",
    "print(len(napoleon))\n",
    "\n",
    "\n",
    "\n"
   ]
  },
  {
   "cell_type": "code",
   "execution_count": null,
   "id": "49f7f0e8",
   "metadata": {},
   "outputs": [],
   "source": []
  }
 ],
 "metadata": {
  "kernelspec": {
   "display_name": "Python 3 (ipykernel)",
   "language": "python",
   "name": "python3"
  },
  "language_info": {
   "codemirror_mode": {
    "name": "ipython",
    "version": 3
   },
   "file_extension": ".py",
   "mimetype": "text/x-python",
   "name": "python",
   "nbconvert_exporter": "python",
   "pygments_lexer": "ipython3",
   "version": "3.10.9"
  }
 },
 "nbformat": 4,
 "nbformat_minor": 5
}
